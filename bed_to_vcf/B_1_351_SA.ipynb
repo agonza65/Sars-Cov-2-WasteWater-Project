{
 "cells": [
  {
   "cell_type": "code",
   "execution_count": 2,
   "metadata": {},
   "outputs": [],
   "source": [
    "\"\"\"\n",
    "This functions opens Coronavirus reference genome, fasta file was obtain from the NCBI website, and \n",
    "returns the specified nucleotieds by the postition.\n",
    "***Helpful to compare the indels that are in the bed file. \n",
    "\"\"\"\n",
    "def referenceGenome(position1,position2):\n",
    "    with open(\"Coronavirus_2_isolate_genome.fasta\") as f:\n",
    "        genome = []\n",
    "        lines = f.readlines()\n",
    "\n",
    "        for line in range(1,len(lines)):\n",
    "            genome.append(lines[line])\n",
    "\n",
    "        genome = [nucleotide.replace('\\n','') for nucleotide in genome]\n",
    "    #     print(genome)\n",
    "        coronavirus=\"\".join(genome)\n",
    "        return coronavirus[position1:position2]\n",
    "    "
   ]
  },
  {
   "cell_type": "code",
   "execution_count": 3,
   "metadata": {},
   "outputs": [],
   "source": [
    "\"\"\"\n",
    "Opens the bed file called \"B_1_351_SA.bed\" and converts it to a vcf file\n",
    "In this case it was specified to filter. \n",
    "CHROM: RunID,\n",
    "POS:position where we found the end point of the SNP, \n",
    "snpID: si the ID composed of the SNP ID, example C913T\n",
    "REF: regerence nucleotide, this will be what is in our reference genome\n",
    "ALT: what it mutated into\n",
    "\"\"\"\n",
    "import re \n",
    "\n",
    "with open(\"B_1_351_SA.bed\") as f: \n",
    "    lines = f.readlines()\n",
    "    vcf = open(\"P_1_BZ.vcf\",\"w\")\n",
    "    vcf.write(\"##fileformat=VCFv4.2\\n\")\n",
    "    vcf.write(\"##reference=NC_045512v2\\n\")\n",
    "    vcf.write(\"#CHROM \\t POS \\t snpID \\t REF \\t ALT \\n\")\n",
    "    for i in lines:\n",
    "        stripped = i.rstrip()\n",
    "        input = stripped.split()\n",
    "        CHROM = input[0] # get the runID\n",
    "        POS  = input[1]  # get position\n",
    "        snpID = input[3] # get snpID  \n",
    "        REF = input[3][0] # get reference nulceotide\n",
    "        ALT = input[3][len(snpID) - 1] # get mutation \n",
    "        \n",
    "        \"\"\"\n",
    "        Get the indels. The positions of indels were obtained from\n",
    "        the bed file. \n",
    "        \"\"\"\n",
    "        #deletion\n",
    "        if( re.search(r'^del_11288',snpID)):\n",
    "            REF = REF.replace(REF, \"\")\n",
    "            ALT = ALT.replace(ALT,referenceGenome(11287,11296))\n",
    "        #insertion \n",
    "        elif( re.search(r'^del_22281',snpID)):\n",
    "            REF = REF.replace(REF, \"\")\n",
    "            ALT = ALT.replace(ALT, referenceGenome(22280,22289))\n",
    "            \n",
    "        vcf.write(CHROM + \"\\t\"),\n",
    "        vcf.write(POS+ \"\\t\"),\n",
    "        vcf.write(snpID+ \"\\t\"),\n",
    "        vcf.write(REF+ \"\\t\"),\n",
    "        vcf.write(ALT + \"\\n\")"
   ]
  },
  {
   "cell_type": "code",
   "execution_count": null,
   "metadata": {},
   "outputs": [],
   "source": []
  }
 ],
 "metadata": {
  "kernelspec": {
   "display_name": "Python 3",
   "language": "python",
   "name": "python3"
  },
  "language_info": {
   "codemirror_mode": {
    "name": "ipython",
    "version": 3
   },
   "file_extension": ".py",
   "mimetype": "text/x-python",
   "name": "python",
   "nbconvert_exporter": "python",
   "pygments_lexer": "ipython3",
   "version": "3.8.5"
  }
 },
 "nbformat": 4,
 "nbformat_minor": 4
}
