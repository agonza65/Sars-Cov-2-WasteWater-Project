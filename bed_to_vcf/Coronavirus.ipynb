{
 "cells": [
  {
   "cell_type": "code",
   "execution_count": 34,
   "metadata": {},
   "outputs": [],
   "source": [
    "def referenceGenome(position1,position2):\n",
    "    with open(\"Coronavirus_2_isolate_genome.fasta\") as f:\n",
    "        genome = []\n",
    "        lines = f.readlines()\n",
    "\n",
    "        for line in range(1,len(lines)):\n",
    "            genome.append(lines[line])\n",
    "\n",
    "        genome = [nucleotide.replace('\\n','') for nucleotide in genome]\n",
    "    #     print(genome)\n",
    "        coronavirus=\"\".join(genome)\n",
    "        return coronavirus[position1:position2]\n",
    "        \n",
    "        \n",
    "        #for testing: see if all the spaces and indents were removed\n",
    "    #     for nucleotide in coronavirus:\n",
    "    #         print(nucleotide)"
   ]
  },
  {
   "cell_type": "code",
   "execution_count": 35,
   "metadata": {},
   "outputs": [
    {
     "name": "stdout",
     "output_type": "stream",
     "text": [
      "C\n"
     ]
    }
   ],
   "source": [
    "print(referenceGenome(240,241))"
   ]
  },
  {
   "cell_type": "code",
   "execution_count": 27,
   "metadata": {},
   "outputs": [
    {
     "name": "stdout",
     "output_type": "stream",
     "text": [
      "C\n",
      "A\n",
      "C\n",
      "G\n",
      "G\n",
      "A\n",
      "A\n"
     ]
    }
   ],
   "source": [
    "#test the postitions\n",
    "print(coronavirus[240:241])\n",
    "print(coronavirus[6318:6319])\n",
    "print(coronavirus[12777:12778])\n",
    "print(coronavirus[17258:17259])\n",
    "print(coronavirus[23011:23012])\n",
    "print(coronavirus[23062:23063])\n",
    "print(coronavirus[23402:23403])"
   ]
  },
  {
   "cell_type": "code",
   "execution_count": 29,
   "metadata": {},
   "outputs": [
    {
     "name": "stdout",
     "output_type": "stream",
     "text": [
      "TCTGGTTTT\n",
      "A\n"
     ]
    }
   ],
   "source": [
    "#deletion\n",
    "deletion = coronavirus[11287:11296]\n",
    "print(deletion)\n",
    "#insertion\n",
    "insertion= coronavirus[28262:28263]\n",
    "print(insertion)"
   ]
  },
  {
   "cell_type": "code",
   "execution_count": null,
   "metadata": {},
   "outputs": [],
   "source": []
  }
 ],
 "metadata": {
  "kernelspec": {
   "display_name": "Python 3",
   "language": "python",
   "name": "python3"
  },
  "language_info": {
   "codemirror_mode": {
    "name": "ipython",
    "version": 3
   },
   "file_extension": ".py",
   "mimetype": "text/x-python",
   "name": "python",
   "nbconvert_exporter": "python",
   "pygments_lexer": "ipython3",
   "version": "3.8.5"
  }
 },
 "nbformat": 4,
 "nbformat_minor": 4
}
